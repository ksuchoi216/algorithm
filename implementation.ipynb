{
 "cells": [
  {
   "cell_type": "markdown",
   "metadata": {},
   "source": [
    "# Implementation"
   ]
  },
  {
   "cell_type": "markdown",
   "metadata": {},
   "source": [
    "완전 탐색: 모든 경우의 수를 다 해보는 것 \\\n",
    "시뮬레이션: 제시한 알고리즘 차례대로 실행해나가는 것"
   ]
  },
  {
   "cell_type": "markdown",
   "metadata": {},
   "source": [
    "## <span style=\"color:violet\">예제문제</span>"
   ]
  },
  {
   "cell_type": "markdown",
   "metadata": {},
   "source": [
    "### <span style=\"color:lime\">상하좌우</span>"
   ]
  },
  {
   "cell_type": "markdown",
   "metadata": {},
   "source": [
    "계획서가 주어졌을 때 여행가 A가 최종적으로 도착할 지점의 좌표를 출력하는 프로그램을 작성하시오"
   ]
  },
  {
   "cell_type": "code",
   "execution_count": 10,
   "metadata": {},
   "outputs": [
    {
     "name": "stdout",
     "output_type": "stream",
     "text": [
      "x=3 and y=4\n"
     ]
    }
   ],
   "source": [
    "# test example\n",
    "# n=5\n",
    "# movesheet=['R','R','R','U','D','D']\n",
    "\n",
    "n = int(input())\n",
    "movesheet = list(input().split())\n",
    "\n",
    "x = 1\n",
    "y = 1\n",
    "\n",
    "for move in movesheet:\n",
    "  # ignore cases\n",
    "  if (move=='R' and y==n) or (move=='L' and y==1) or (move=='U' and x==1) or (move=='D' and x==n):\n",
    "    continue\n",
    "\n",
    "  if move == 'R':\n",
    "    y += 1\n",
    "  elif move == 'L':\n",
    "    y -= 1\n",
    "  elif move == 'U':\n",
    "    x -= 1\n",
    "  elif move == 'D':\n",
    "    x += 1\n",
    "\n",
    "print('x={} and y={}'.format(x,y))\n"
   ]
  },
  {
   "cell_type": "markdown",
   "metadata": {},
   "source": [
    "### <span style=\"color:lime\">시각</span>"
   ]
  },
  {
   "cell_type": "code",
   "execution_count": 14,
   "metadata": {},
   "outputs": [
    {
     "name": "stdout",
     "output_type": "stream",
     "text": [
      "11475\n"
     ]
    }
   ],
   "source": [
    "n=int(input())\n",
    "\n",
    "# 60min 60sec\n",
    "\n",
    "count=0\n",
    "for h in range(0, n+1):\n",
    "  for m in range(0, 60):\n",
    "    for s in range(0, 60):\n",
    "      if '3' in str(h) + str(m) + str(s):\n",
    "        count+=1\n",
    "\n",
    "\n",
    "print(count)"
   ]
  },
  {
   "cell_type": "markdown",
   "metadata": {},
   "source": [
    "### <span style=\"color:lime\">왕실의 나이트</span>"
   ]
  },
  {
   "cell_type": "code",
   "execution_count": 25,
   "metadata": {},
   "outputs": [
    {
     "name": "stdout",
     "output_type": "stream",
     "text": [
      "1 2\n",
      "3\n"
     ]
    }
   ],
   "source": [
    "# FIXME\n",
    "p = 'b1'\n",
    "\n",
    "def convertposition(position):\n",
    "  row = int(position[1])\n",
    "  col = ord(position[0]) - 96\n",
    "\n",
    "  return row, col\n",
    "\n",
    "row, col = convertposition(p)\n",
    "\n",
    "count = 0\n",
    "move = [(2, -1),(2,+1),(-2,-1), (-2,+1), (1, 2), (1,-2), (-1,2), (-1,-2)]\n",
    "\n",
    "for m in move:\n",
    "  next_row = row + m[1]\n",
    "  next_col = col + m[0] \n",
    "  if next_row >= 1 and next_col >= 1 and next_row <= 8 and next_col <= 8:\n",
    "    count += 1\n",
    "\n",
    "print(count)\n",
    "  "
   ]
  },
  {
   "cell_type": "markdown",
   "metadata": {},
   "source": [
    "### <span style=\"color:lime\">게임개발</span>"
   ]
  },
  {
   "cell_type": "code",
   "execution_count": 42,
   "metadata": {},
   "outputs": [
    {
     "name": "stdout",
     "output_type": "stream",
     "text": [
      "[1, 1, 1, 1]\n",
      "[1, 0, 0, 1]\n",
      "[1, 1, 0, 1]\n",
      "[1, 1, 1, 1]\n",
      "[current_d][current_x, current_y] =[0][1,1]\n",
      "[next_d][next_x, next_y] =[3][1,0]\n",
      "--------------------\n",
      "[1, 1, 1, 1]\n",
      "[1, 0, 0, 1]\n",
      "[1, 1, 0, 1]\n",
      "[1, 1, 1, 1]\n",
      "[current_d][current_x, current_y] =[3][1,1]\n",
      "[next_d][next_x, next_y] =[2][2,1]\n",
      "--------------------\n",
      "[1, 1, 1, 1]\n",
      "[1, 0, 1, 1]\n",
      "[1, 1, 0, 1]\n",
      "[1, 1, 1, 1]\n",
      "[current_d][current_x, current_y] =[2][2,1]\n",
      "[next_d][next_x, next_y] =[1][2,2]\n",
      "2\n"
     ]
    }
   ],
   "source": [
    "# FIXME\n",
    "r, c = 4,4\n",
    "x, y, d = 1, 1, 0\n",
    "map = [[1,1,1,1],[1,0,0,1], [1,1,0,1], [1,1,1,1]]\n",
    "\n",
    "for i in map :\n",
    "  print(i)\n",
    "\n",
    "def turnleft(direction):\n",
    "  direction -= 1\n",
    "  if direction == -1:\n",
    "    direction = 3\n",
    "  return direction\n",
    "\n",
    "# [n, e, s, w]\n",
    "move_x = [-1, 0, 1, 0]\n",
    "move_y = [0, 1, 0, -1]\n",
    "\n",
    "current_x = x\n",
    "current_y = y\n",
    "current_d = d\n",
    "current_m = map[current_y][current_x]\n",
    "\n",
    "count = 0\n",
    "while True:\n",
    "    print('[current_d][current_x, current_y] =[{}][{},{}]'.format(current_d, current_x, current_y))\n",
    "    next_d = turnleft(current_d)\n",
    "    current_d = next_d\n",
    "\n",
    "    next_x = current_x + move_x[next_d]\n",
    "    next_y = current_y + move_y[next_d]\n",
    "    next_m = map[next_y][next_x]\n",
    "    print('[next_d][next_x, next_y] =[{}][{},{}]'.format(next_d, next_x, next_y))\n",
    "\n",
    "\n",
    "    if next_m == 0:\n",
    "      count += 1\n",
    "      map[next_y][next_x] = 1\n",
    "      current_x = next_x\n",
    "      current_y = next_y\n",
    "    \n",
    "    if map[current_y-1][current_x] == 1 and map[current_y+1][current_x] == 1 and map[current_y][current_x-1] == 1 and map[current_y][current_x+1] == 1:\n",
    "      back_x = current_x - move_x[next_d]\n",
    "      back_y = current_y - move_y[next_d]\n",
    "      if map[back_y][back_x] == 1:\n",
    "        break\n",
    "      current_x = back_x\n",
    "      current_y = back_y\n",
    "      continue\n",
    "\n",
    "\n",
    "\n",
    "    print('-'*20)\n",
    "    for i in map :\n",
    "      print(i)\n",
    "    \n",
    "    \n",
    "print(count)\n",
    "    "
   ]
  },
  {
   "cell_type": "markdown",
   "metadata": {},
   "source": [
    "## <span style=\"color:violet\">연습문제</span>"
   ]
  },
  {
   "cell_type": "markdown",
   "metadata": {},
   "source": [
    "### <span style=\"color:lime\">럭키 스트레이트</span>"
   ]
  },
  {
   "cell_type": "code",
   "execution_count": 92,
   "metadata": {},
   "outputs": [
    {
     "name": "stdout",
     "output_type": "stream",
     "text": [
      "LUCKY\n"
     ]
    }
   ],
   "source": [
    "n = input()\n",
    "n = list(n)\n",
    "\n",
    "for i in range(len(n)) :\n",
    "  n[i] = int(n[i])\n",
    "\n",
    "half = int(len(n)/2)\n",
    "\n",
    "left = n[:half]\n",
    "right = n[half:]\n",
    "\n",
    "\n",
    "if sum(left) == sum(right):\n",
    "  print(\"LUCKY\")\n",
    "else:\n",
    "  print(\"READY\")\n",
    "\n"
   ]
  },
  {
   "cell_type": "markdown",
   "metadata": {},
   "source": [
    "### <span style=\"color:lime\">문자열 재정렬</span>"
   ]
  },
  {
   "cell_type": "code",
   "execution_count": 68,
   "metadata": {},
   "outputs": [
    {
     "name": "stdout",
     "output_type": "stream",
     "text": [
      "ABCKK13\n"
     ]
    }
   ],
   "source": [
    "string = list(input)\n",
    "\n",
    "s = ''\n",
    "n = 0\n",
    "\n",
    "for e in string:\n",
    "  if ord(e) < 65:\n",
    "    n += int(e)\n",
    "  else:\n",
    "    s += e\n",
    "\n",
    "s = sorted(list(s), reverse=False)\n",
    "s = ''.join(s)\n",
    "\n",
    "print(s+str(n))"
   ]
  },
  {
   "cell_type": "markdown",
   "metadata": {},
   "source": [
    "### <span style=\"color:lime\">문자열 압축</span>"
   ]
  },
  {
   "cell_type": "code",
   "execution_count": 129,
   "metadata": {},
   "outputs": [
    {
     "name": "stdout",
     "output_type": "stream",
     "text": [
      "8\n",
      "step 1 : 2a2ba3c\n",
      "step 2 : aabbaccc\n",
      "step 3 : aabbaccc\n",
      "step 4 : aabbaccc\n",
      "7\n"
     ]
    }
   ],
   "source": [
    "s = 'aabbaccc'\n",
    "print(len(s))\n",
    "\n",
    "answer = len(s)\n",
    "for step in range(1, int(len(s)/2) +1):\n",
    "  # print(step)\n",
    "  compressed=''\n",
    "  prev = s[0:step]\n",
    "  count = 1\n",
    "\n",
    "  # if step ==3:\n",
    "  #   print(0, step)\n",
    "\n",
    "  for i in range(step, int(len(s)), step):\n",
    "    # if step == 3:\n",
    "    #   print(i, i+step)\n",
    "    curr = s[i:i+step]\n",
    "\n",
    "    if prev == curr:\n",
    "      count += 1\n",
    "    else:\n",
    "      compressed += str(count) + prev if count >= 2 else prev\n",
    "      prev = curr\n",
    "      count = 1\n",
    "\n",
    "  compressed += str(count) + prev if count >= 2 else prev\n",
    "  print('step {} : {}'.format(step,compressed))\n",
    "  answer = min(answer, len(compressed))\n",
    "    \n",
    "    \n",
    "print(answer)"
   ]
  },
  {
   "cell_type": "code",
   "execution_count": null,
   "metadata": {},
   "outputs": [],
   "source": []
  }
 ],
 "metadata": {
  "interpreter": {
   "hash": "45d80257ccf4ae77bb116447a323b4ded5c7d4f4eb3ea993cf039511269910c8"
  },
  "kernelspec": {
   "display_name": "Python 3.8.8 ('base')",
   "language": "python",
   "name": "python3"
  },
  "language_info": {
   "codemirror_mode": {
    "name": "ipython",
    "version": 3
   },
   "file_extension": ".py",
   "mimetype": "text/x-python",
   "name": "python",
   "nbconvert_exporter": "python",
   "pygments_lexer": "ipython3",
   "version": "3.8.8"
  },
  "orig_nbformat": 4
 },
 "nbformat": 4,
 "nbformat_minor": 2
}
