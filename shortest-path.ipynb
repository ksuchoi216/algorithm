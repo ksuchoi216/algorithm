{
 "cells": [
  {
   "cell_type": "markdown",
   "metadata": {},
   "source": [
    "# 최단 경로"
   ]
  },
  {
   "cell_type": "markdown",
   "metadata": {},
   "source": [
    "## 다익스트라"
   ]
  },
  {
   "cell_type": "markdown",
   "metadata": {},
   "source": [
    "1. 간단한 다익스트라"
   ]
  },
  {
   "cell_type": "code",
   "execution_count": 14,
   "metadata": {},
   "outputs": [
    {
     "name": "stdout",
     "output_type": "stream",
     "text": [
      "[[], [(2, 2), (3, 5), (4, 1)], [(3, 3), (4, 2)], [(2, 3), (6, 5)], [(3, 3), (5, 1)], [(3, 1), (6, 2)], []]\n",
      "0\n",
      "2\n",
      "3\n",
      "1\n",
      "2\n",
      "4\n"
     ]
    }
   ],
   "source": [
    "# import sys\n",
    "# input = sys.stdin.readline\n",
    "INF = int(1e9)\n",
    "\n",
    "n = 6\n",
    "m = 11\n",
    "start = 1\n",
    "\n",
    "gh = [[1,2,2],[1,3,5],[1,4,1],[2,3,3],[2,4,2],[3,2,3],[3,6,5],[4,3,3],[4,5,1],[5,3,1],[5,6,2]]\n",
    "\n",
    "\n",
    "graph = [[] for i in range(n+1)]\n",
    "visited = [False] * (n+1)\n",
    "distance = [INF] * (n+1)\n",
    "\n",
    "for a,b,c in gh:\n",
    "  graph[a].append((b,c))\n",
    "\n",
    "print(graph)\n",
    "\n",
    "def get_smallest_node():\n",
    "  min_value = INF\n",
    "\n",
    "  for i in range(1, n+1):\n",
    "    if distance[i] < min_value and not visited[i]:\n",
    "      min_value = distance[i]\n",
    "      index = i\n",
    "  \n",
    "  return index\n",
    "\n",
    "\n",
    "def dijkstra(start):\n",
    "  # initialisation\n",
    "  distance[start] = 0\n",
    "  visited[start] = 0\n",
    "\n",
    "  for node, edge  in graph[start]:\n",
    "    distance[node] = edge\n",
    "  \n",
    "  for i in range(n-1):\n",
    "    now_index = get_smallest_node()\n",
    "    visited[now_index] = True\n",
    "\n",
    "    for node, edge in graph[now_index]:\n",
    "      cost = distance[now_index] + edge\n",
    "      if cost < distance[node]:\n",
    "        distance[node] = cost\n",
    "\n",
    "dijkstra(start)\n",
    "\n",
    "for i in range(1, n+1):\n",
    "  print(distance[i])\n"
   ]
  },
  {
   "cell_type": "markdown",
   "metadata": {},
   "source": [
    "2. 개선된 다익스트라"
   ]
  },
  {
   "cell_type": "markdown",
   "metadata": {},
   "source": [
    "## 플로이드 워셜"
   ]
  }
 ],
 "metadata": {
  "interpreter": {
   "hash": "45d80257ccf4ae77bb116447a323b4ded5c7d4f4eb3ea993cf039511269910c8"
  },
  "kernelspec": {
   "display_name": "Python 3.8.8 ('base')",
   "language": "python",
   "name": "python3"
  },
  "language_info": {
   "codemirror_mode": {
    "name": "ipython",
    "version": 3
   },
   "file_extension": ".py",
   "mimetype": "text/x-python",
   "name": "python",
   "nbconvert_exporter": "python",
   "pygments_lexer": "ipython3",
   "version": "3.8.8"
  },
  "orig_nbformat": 4
 },
 "nbformat": 4,
 "nbformat_minor": 2
}
