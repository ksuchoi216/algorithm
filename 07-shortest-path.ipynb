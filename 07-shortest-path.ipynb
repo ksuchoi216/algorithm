{
 "cells": [
  {
   "cell_type": "markdown",
   "metadata": {},
   "source": [
    "# 최단 경로"
   ]
  },
  {
   "cell_type": "markdown",
   "metadata": {},
   "source": [
    "## 다익스트라"
   ]
  },
  {
   "cell_type": "markdown",
   "metadata": {},
   "source": [
    "1. 간단한 다익스트라"
   ]
  },
  {
   "cell_type": "code",
   "execution_count": 14,
   "metadata": {},
   "outputs": [
    {
     "name": "stdout",
     "output_type": "stream",
     "text": [
      "[[], [(2, 2), (3, 5), (4, 1)], [(3, 3), (4, 2)], [(2, 3), (6, 5)], [(3, 3), (5, 1)], [(3, 1), (6, 2)], []]\n",
      "0\n",
      "2\n",
      "3\n",
      "1\n",
      "2\n",
      "4\n"
     ]
    }
   ],
   "source": [
    "# import sys\n",
    "# input = sys.stdin.readline\n",
    "INF = int(1e9)\n",
    "\n",
    "n = 6\n",
    "m = 11\n",
    "start = 1\n",
    "\n",
    "gh = [[1,2,2],[1,3,5],[1,4,1],[2,3,3],[2,4,2],[3,2,3],[3,6,5],[4,3,3],[4,5,1],[5,3,1],[5,6,2]]\n",
    "\n",
    "\n",
    "graph = [[] for i in range(n+1)]\n",
    "visited = [False] * (n+1)\n",
    "distance = [INF] * (n+1)\n",
    "\n",
    "for a,b,c in gh:\n",
    "  graph[a].append((b,c))\n",
    "\n",
    "print(graph)\n",
    "\n",
    "def get_smallest_node():\n",
    "  min_value = INF\n",
    "\n",
    "  for i in range(1, n+1):\n",
    "    if distance[i] < min_value and not visited[i]:\n",
    "      min_value = distance[i]\n",
    "      index = i\n",
    "  \n",
    "  return index\n",
    "\n",
    "\n",
    "def dijkstra(start):\n",
    "  # initialisation\n",
    "  distance[start] = 0\n",
    "  visited[start] = 0\n",
    "\n",
    "  for node, edge  in graph[start]:\n",
    "    distance[node] = edge\n",
    "  \n",
    "  for i in range(n-1):\n",
    "    now_index = get_smallest_node()\n",
    "    visited[now_index] = True\n",
    "\n",
    "    for node, edge in graph[now_index]:\n",
    "      cost = distance[now_index] + edge\n",
    "      if cost < distance[node]:\n",
    "        distance[node] = cost\n",
    "\n",
    "dijkstra(start)\n",
    "\n",
    "for i in range(1, n+1):\n",
    "  print(distance[i])\n"
   ]
  },
  {
   "cell_type": "markdown",
   "metadata": {},
   "source": [
    "2. 개선된 다익스트라"
   ]
  },
  {
   "cell_type": "code",
   "execution_count": 48,
   "metadata": {},
   "outputs": [
    {
     "name": "stdout",
     "output_type": "stream",
     "text": [
      "0 2 3 1 2 4 "
     ]
    }
   ],
   "source": [
    "import heapq\n",
    "\n",
    "INF = int(1e9)\n",
    "\n",
    "n=6\n",
    "m=11\n",
    "start = 1\n",
    "\n",
    "inputs = [(1,2,2),(1,3,5),(1,4,1),(2,3,3),(2,4,2),(3,2,3),(3,6,5),(4,3,3),(4,5,1),(5,3,1),(5,6,2)]\n",
    "\n",
    "adj = [[] for i in range(n+1)]\n",
    "\n",
    "for r,c,e in inputs:\n",
    "  adj[r].append((c,e))\n",
    "\n",
    "dist = [INF]*(n+1)\n",
    "\n",
    "def dijkstra(start):\n",
    "  q = []\n",
    "  heapq.heappush(q,(0, start))\n",
    "  dist[start] = 0\n",
    "\n",
    "  while q:\n",
    "    distance, now = heapq.heappop(q)\n",
    "\n",
    "    if dist[now] < distance:\n",
    "      continue\n",
    "\n",
    "    for i in adj[now]:\n",
    "      cost = distance + i[1]\n",
    "      if cost < dist[i[0]]:\n",
    "        dist[i[0]] = cost\n",
    "        heapq.heappush(q, (cost, i[0]))\n",
    "\n",
    "dijkstra(start)\n",
    "\n",
    "for i in range(1, n+1):\n",
    "  print(dist[i], end=' ')\n",
    "  \n"
   ]
  },
  {
   "cell_type": "markdown",
   "metadata": {},
   "source": [
    "## 플로이드 워셜"
   ]
  },
  {
   "cell_type": "code",
   "execution_count": 28,
   "metadata": {},
   "outputs": [
    {
     "name": "stdout",
     "output_type": "stream",
     "text": [
      "[99, 99, 99, 99, 99]\n",
      "[99, 0, 99, 99, 99]\n",
      "[99, 99, 0, 99, 99]\n",
      "[99, 99, 99, 0, 99]\n",
      "[99, 99, 99, 99, 0]\n",
      "0 4 8 6 \n",
      "3 0 7 9 \n",
      "5 9 0 4 \n",
      "7 11 2 0 \n"
     ]
    }
   ],
   "source": [
    "n = 4 # nodes\n",
    "m = 7 # edges\n",
    "input_list = [(1,2,4),(1,4,6),(2,1,3),(2,3,7),(3,1,5),(3,4,4),(4,3,2)]\n",
    "\n",
    "\n",
    "INF = 99\n",
    "adj = [[INF]*(n+1) for _ in range(n+1)]\n",
    "\n",
    "for r in range(1, n+1):\n",
    "  for c in range(1, n+1):\n",
    "    if r == c:\n",
    "      adj[r][c] = 0\n",
    "\n",
    "for row in adj:\n",
    "  print(row)\n",
    "\n",
    "\n",
    "for r,c,edge in input_list:\n",
    "  adj[r][c] = edge\n",
    "\n",
    "for k in range(1, n+1):\n",
    "  for a in range(1, n+1):\n",
    "    for b in range(1, n+1):\n",
    "      adj[a][b] = min(adj[a][b], adj[a][k]+adj[k][b])\n",
    "      # print('d{}{} = min d{}{} vs d{}{} + d{}{}'.format(a,b,a,b,a,n,n,b))\n",
    "\n",
    "  # print('-'*70)\n",
    "  # for row in adj:\n",
    "  #   print(row)\n",
    "\n",
    "for r in range(1, n+1):\n",
    "  for c in range(1, n+1):\n",
    "    if adj[a][b] == INF:\n",
    "      print('inf', end=' ')\n",
    "    else:\n",
    "      print(adj[r][c], end=' ')\n",
    "\n",
    "\n",
    "\n",
    "\n",
    "\n",
    "\n",
    "\n"
   ]
  },
  {
   "cell_type": "markdown",
   "metadata": {},
   "source": [
    "## 연습문제"
   ]
  },
  {
   "cell_type": "markdown",
   "metadata": {},
   "source": [
    "미래도시"
   ]
  },
  {
   "cell_type": "code",
   "execution_count": 34,
   "metadata": {},
   "outputs": [
    {
     "name": "stdout",
     "output_type": "stream",
     "text": [
      "0 1 1 1 2 \n",
      "1 0 2 1 2 \n",
      "1 2 0 1 1 \n",
      "1 1 1 0 1 \n",
      "2 2 1 1 0 \n",
      "3\n"
     ]
    }
   ],
   "source": [
    "n = 5 # node\n",
    "m = 7 # edge\n",
    "edges = [(1,2),(1,3),(1,4),(2,4),(3,4),(3,5),(4,5)]\n",
    "x = 4\n",
    "k = 5\n",
    "\n",
    "INF = 99\n",
    "adj = [[INF]*(n+1) for _ in range(n+1)]\n",
    "\n",
    "for r in range(1, n+1):\n",
    "  for c in range(1, n+1):\n",
    "    if r == c:\n",
    "      adj[r][c] = 0\n",
    "\n",
    "for r,c in edges:\n",
    "  adj[r][c] = 1\n",
    "  adj[c][r] = 1\n",
    "\n",
    "for k in range(1, n+1):\n",
    "  for a in range(1, n+1):\n",
    "    for b in range(1, n+1):\n",
    "      adj[a][b] = min(adj[a][b], adj[a][k]+adj[k][b])\n",
    "\n",
    "\n",
    "for r in range(1, n+1):\n",
    "  for c in range(1, n+1):\n",
    "    if adj[a][b] == INF:\n",
    "      print('inf', end=' ')\n",
    "    else:\n",
    "      print(adj[r][c], end=' ')\n",
    "  print()\n",
    "\n",
    "dist = adj[1][k] + adj[k][x]\n",
    "print(dist)\n",
    "\n",
    "\n"
   ]
  },
  {
   "cell_type": "markdown",
   "metadata": {},
   "source": [
    "전보"
   ]
  },
  {
   "cell_type": "code",
   "execution_count": 36,
   "metadata": {},
   "outputs": [
    {
     "name": "stdout",
     "output_type": "stream",
     "text": [
      "[[], [], [], []]\n",
      "[[], [(2, 4), (3, 2)], [], []]\n"
     ]
    }
   ],
   "source": [
    "import heapq\n",
    "\n",
    "n = 3\n",
    "m =2\n",
    "start=1\n",
    "adj = [[] for i in range(n+1)]\n",
    "\n",
    "print(adj)\n",
    "dist = [INF] * (n+1)\n",
    "\n",
    "input_list = [(1,2,4),(1,3,2)]\n",
    "\n",
    "for x,y,k in input_list:\n",
    "  adj[x].append((y,k))\n",
    "\n",
    "print(adj)\n",
    "\n",
    "\n",
    "def dijkstra(start):\n",
    "  q = []\n",
    "\n",
    "  heapq.heappush()\n"
   ]
  },
  {
   "cell_type": "markdown",
   "metadata": {},
   "source": [
    "## 실전문제"
   ]
  },
  {
   "cell_type": "markdown",
   "metadata": {},
   "source": [
    "플로이드"
   ]
  },
  {
   "cell_type": "code",
   "execution_count": 10,
   "metadata": {},
   "outputs": [
    {
     "name": "stdout",
     "output_type": "stream",
     "text": [
      "[99, 99, 99, 99, 99, 99]\n",
      "[99, 0, 2, 3, 2, 5]\n",
      "[99, 12, 0, 15, 2, 5]\n",
      "[99, 8, 9, 0, 2, 5]\n",
      "[99, 10, 7, 13, 0, 3]\n",
      "[99, 7, 4, 10, 6, 0]\n"
     ]
    }
   ],
   "source": [
    "n = 5 # city\n",
    "m = 14 # bus\n",
    "data = [\n",
    "  [1, 2, 2],\n",
    "  [1, 3, 3],\n",
    "  [1, 4, 1],\n",
    "  [1, 5, 10],\n",
    "  [2, 4, 2],\n",
    "  [3, 4, 1],\n",
    "  [3, 5, 1],\n",
    "  [4, 5, 3],\n",
    "  [3, 5, 10],\n",
    "  [3, 1, 8],\n",
    "  [1, 4, 2],\n",
    "  [5, 1, 7],\n",
    "  [3, 4, 2],\n",
    "  [5, 2, 4]\n",
    "]\n",
    "INF = 99\n",
    "\n",
    "adj = [[INF]*(n+1) for _ in range(n+1)]\n",
    "\n",
    "# diagonal elements is 0\n",
    "for a in range(1, n+1):\n",
    "  for b in range(1, n+1):\n",
    "    if a==b:\n",
    "      adj[a][b]=0\n",
    "\n",
    "# input data\n",
    "for a,b,e in data:\n",
    "  adj[a][b] = e\n",
    "\n",
    "for k in range(1, n+1):\n",
    "  for a in range(1, n+1):\n",
    "    for b in range(1, n+1):\n",
    "      adj[a][b] = min(adj[a][b], adj[a][k]+adj[k][b])\n",
    "\n",
    "\n",
    "for i in adj:\n",
    "  print(i)\n"
   ]
  },
  {
   "cell_type": "markdown",
   "metadata": {},
   "source": [
    "정확한 순위"
   ]
  }
 ],
 "metadata": {
  "interpreter": {
   "hash": "45d80257ccf4ae77bb116447a323b4ded5c7d4f4eb3ea993cf039511269910c8"
  },
  "kernelspec": {
   "display_name": "Python 3.8.8 ('base')",
   "language": "python",
   "name": "python3"
  },
  "language_info": {
   "codemirror_mode": {
    "name": "ipython",
    "version": 3
   },
   "file_extension": ".py",
   "mimetype": "text/x-python",
   "name": "python",
   "nbconvert_exporter": "python",
   "pygments_lexer": "ipython3",
   "version": "3.8.8"
  },
  "orig_nbformat": 4
 },
 "nbformat": 4,
 "nbformat_minor": 2
}
