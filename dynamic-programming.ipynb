{
 "cells": [
  {
   "cell_type": "markdown",
   "metadata": {},
   "source": [
    "# 다이나믹 프로그래밍"
   ]
  },
  {
   "cell_type": "markdown",
   "metadata": {},
   "source": [
    "피보나치 수열"
   ]
  },
  {
   "cell_type": "code",
   "execution_count": 1,
   "metadata": {},
   "outputs": [
    {
     "name": "stdout",
     "output_type": "stream",
     "text": [
      "218922995834555169026\n"
     ]
    }
   ],
   "source": [
    "# memorization\n",
    "d = [0] * 100\n",
    "\n",
    "d[1] = 1\n",
    "d[2] = 1\n",
    "n = 99\n",
    "\n",
    "for i in range(3, n+1):\n",
    "  d[i] = d[i-2]+d[i-1]\n",
    "\n",
    "print(d[n])"
   ]
  },
  {
   "cell_type": "markdown",
   "metadata": {},
   "source": [
    "1로 만들기"
   ]
  },
  {
   "cell_type": "code",
   "execution_count": 8,
   "metadata": {},
   "outputs": [
    {
     "name": "stdout",
     "output_type": "stream",
     "text": [
      "[0, 0, 1, 1, 2, 1, 2, 3, 3, 2, 2, 3, 3, 4, 4, 2, 3, 4, 3, 4, 3, 4, 4, 5, 4, 2, 3]\n"
     ]
    }
   ],
   "source": [
    "n = 26\n",
    "\n",
    "d = [0] * 10000\n",
    "\n",
    "for i in range(2, n+1):\n",
    "\n",
    "  d[i] = d[i-1] + 1\n",
    "\n",
    "  if i % 2 == 0:\n",
    "    d[i] = min(d[i], d[i//2]+1)\n",
    "  if i % 3 == 0:\n",
    "    d[i] = min(d[i], d[i//3]+1)\n",
    "  if i % 5 == 0:\n",
    "    d[i] = min(d[i], d[i//5]+1)\n",
    "  \n",
    "\n",
    "\n",
    "print(d[0:n+1])\n"
   ]
  },
  {
   "cell_type": "markdown",
   "metadata": {},
   "source": [
    "개미전사"
   ]
  },
  {
   "cell_type": "code",
   "execution_count": 12,
   "metadata": {},
   "outputs": [
    {
     "name": "stdout",
     "output_type": "stream",
     "text": [
      "8\n"
     ]
    }
   ],
   "source": [
    "n = 4\n",
    "food = [1,3,1,5]\n",
    "\n",
    "d = [0] * 10000\n",
    "\n",
    "d[0] = food[0]\n",
    "d[1] = max(food[0], food[1])\n",
    "  \n",
    "for i in range(2, n):\n",
    "  d[i] = max(d[i-1], d[i-2]+food[i])\n",
    "\n",
    "print(d[n-1])"
   ]
  },
  {
   "cell_type": "markdown",
   "metadata": {},
   "source": [
    "바닥공사"
   ]
  },
  {
   "cell_type": "code",
   "execution_count": 19,
   "metadata": {},
   "outputs": [
    {
     "name": "stdout",
     "output_type": "stream",
     "text": [
      "5\n"
     ]
    }
   ],
   "source": [
    "n = 3\n",
    "\n",
    "d = [0]*1001\n",
    "\n",
    "d[0] = 0\n",
    "d[1] = 1\n",
    "d[2] = 3\n",
    "\n",
    "for i in range(3, n+1):\n",
    "  d[i] = (d[i-1] + d[i-2] * 2) % 796796\n",
    "\n",
    "print(d[n])"
   ]
  },
  {
   "cell_type": "markdown",
   "metadata": {},
   "source": [
    "효율적인 화폐구성"
   ]
  },
  {
   "cell_type": "code",
   "execution_count": 27,
   "metadata": {},
   "outputs": [
    {
     "name": "stdout",
     "output_type": "stream",
     "text": [
      "5\n"
     ]
    }
   ],
   "source": [
    "n = 2 #화폐 가지수 \n",
    "arr = [2, 3]\n",
    "m = 15 #원\n",
    "\n",
    "d = [10001] * (m+1) # 존재하지 않는 경우 10001가지\n",
    "d[0] = 0\n",
    "\n",
    "for i in range(0, n):\n",
    "  for j in range(arr[i], m+1):\n",
    "    if not d[j-arr[i]] == 10001:\n",
    "      d[j] = min(d[j], d[j-arr[i]]+1)\n",
    "\n",
    "print(d[m])"
   ]
  },
  {
   "cell_type": "code",
   "execution_count": null,
   "metadata": {},
   "outputs": [],
   "source": []
  }
 ],
 "metadata": {
  "interpreter": {
   "hash": "45d80257ccf4ae77bb116447a323b4ded5c7d4f4eb3ea993cf039511269910c8"
  },
  "kernelspec": {
   "display_name": "Python 3.8.8 ('base')",
   "language": "python",
   "name": "python3"
  },
  "language_info": {
   "codemirror_mode": {
    "name": "ipython",
    "version": 3
   },
   "file_extension": ".py",
   "mimetype": "text/x-python",
   "name": "python",
   "nbconvert_exporter": "python",
   "pygments_lexer": "ipython3",
   "version": "3.8.8"
  },
  "orig_nbformat": 4
 },
 "nbformat": 4,
 "nbformat_minor": 2
}
