{
 "cells": [
  {
   "cell_type": "markdown",
   "metadata": {},
   "source": [
    "# 이진 탐색"
   ]
  },
  {
   "cell_type": "markdown",
   "metadata": {},
   "source": [
    "이진 탐색 - 재귀함수"
   ]
  },
  {
   "cell_type": "code",
   "execution_count": 26,
   "metadata": {},
   "outputs": [
    {
     "name": "stdout",
     "output_type": "stream",
     "text": [
      "1 9 19 False\n",
      "1 3 7 False\n",
      "5 5 7 False\n",
      "7 7 7 True\n",
      "3\n"
     ]
    }
   ],
   "source": [
    "n = 10\n",
    "target = 7\n",
    "arr = [1,3,5,7,9,11,13,15,17,19]\n",
    "\n",
    "def binary_search(arr, target, start, end):\n",
    "  if start > end:\n",
    "    return None\n",
    "  \n",
    "  mid = (start + end)//2\n",
    "  print(arr[start], arr[mid], arr[end], target == arr[mid])\n",
    "  if target == arr[mid]:\n",
    "    return mid\n",
    "  elif target < arr[mid]:\n",
    "    return binary_search(arr, target, start, mid-1)\n",
    "  elif target > arr[mid]:\n",
    "    return binary_search(arr, target, mid+1, end)\n",
    "    \n",
    "\n",
    "res = binary_search(arr, target, 0, n-1)\n",
    "print(res)"
   ]
  },
  {
   "cell_type": "markdown",
   "metadata": {},
   "source": [
    "부품찾기"
   ]
  },
  {
   "cell_type": "code",
   "execution_count": 41,
   "metadata": {},
   "outputs": [
    {
     "name": "stdout",
     "output_type": "stream",
     "text": [
      "no yes yes\n"
     ]
    }
   ],
   "source": [
    "n = 5\n",
    "arr = [8,3,7,9,2]\n",
    "\n",
    "m=3\n",
    "arr_target = [5,7,9]\n",
    "\n",
    "def binary_search(arr, target, start, end):\n",
    "\n",
    "  while start <= end:\n",
    "    mid = (start + end) // 2\n",
    "    if target == arr[mid]:\n",
    "      return mid\n",
    "    elif target < arr[mid]:\n",
    "      end = mid - 1\n",
    "    elif target > arr[mid]:\n",
    "      start = mid + 1\n",
    "\n",
    "  return None\n",
    "\n",
    "arr = sorted(arr)\n",
    "\n",
    "res = []\n",
    "for target in arr_target:\n",
    "  if binary_search(arr, target, 0, n-1) == None:\n",
    "    res.append('no')\n",
    "  else:\n",
    "    res.append('yes')\n",
    "print(' '.join(res))"
   ]
  },
  {
   "cell_type": "markdown",
   "metadata": {},
   "source": [
    "떡볶이 떡 만들기"
   ]
  },
  {
   "cell_type": "code",
   "execution_count": 44,
   "metadata": {},
   "outputs": [
    {
     "name": "stdout",
     "output_type": "stream",
     "text": [
      "15\n"
     ]
    }
   ],
   "source": [
    "n=4\n",
    "m=6\n",
    "arr = [19,15,10,17]\n",
    "\n",
    "def binary_search(arr, target, start, end):\n",
    "  res = 0\n",
    "  while start <= end:\n",
    "    mid = (start+end)//2\n",
    "    total = 0\n",
    "    for i in range(len(arr)):\n",
    "      if arr[i] > mid:\n",
    "        total += arr[i] - mid\n",
    "\n",
    "    if total < target:\n",
    "      end = mid - 1\n",
    "    else:\n",
    "      res = mid\n",
    "      start = mid + 1\n",
    "\n",
    "  return res\n",
    "      \n",
    "res=binary_search(arr, m, 0, max(arr))\n",
    "print(res)\n"
   ]
  }
 ],
 "metadata": {
  "interpreter": {
   "hash": "aee8b7b246df8f9039afb4144a1f6fd8d2ca17a180786b69acc140d282b71a49"
  },
  "kernelspec": {
   "display_name": "Python 3.8.5 64-bit",
   "language": "python",
   "name": "python3"
  },
  "language_info": {
   "codemirror_mode": {
    "name": "ipython",
    "version": 3
   },
   "file_extension": ".py",
   "mimetype": "text/x-python",
   "name": "python",
   "nbconvert_exporter": "python",
   "pygments_lexer": "ipython3",
   "version": "3.8.5"
  },
  "orig_nbformat": 4
 },
 "nbformat": 4,
 "nbformat_minor": 2
}
