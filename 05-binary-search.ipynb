{
 "cells": [
  {
   "cell_type": "markdown",
   "metadata": {},
   "source": [
    "# 이진 탐색"
   ]
  },
  {
   "cell_type": "markdown",
   "metadata": {},
   "source": [
    "이진 탐색 - 재귀함수"
   ]
  },
  {
   "cell_type": "code",
   "execution_count": 26,
   "metadata": {},
   "outputs": [
    {
     "name": "stdout",
     "output_type": "stream",
     "text": [
      "1 9 19 False\n",
      "1 3 7 False\n",
      "5 5 7 False\n",
      "7 7 7 True\n",
      "3\n"
     ]
    }
   ],
   "source": [
    "n = 10\n",
    "target = 7\n",
    "arr = [1,3,5,7,9,11,13,15,17,19]\n",
    "\n",
    "def binary_search(arr, target, start, end):\n",
    "  if start > end:\n",
    "    return None\n",
    "  \n",
    "  mid = (start + end)//2\n",
    "  print(arr[start], arr[mid], arr[end], target == arr[mid])\n",
    "  if target == arr[mid]:\n",
    "    return mid\n",
    "  elif target < arr[mid]:\n",
    "    return binary_search(arr, target, start, mid-1)\n",
    "  elif target > arr[mid]:\n",
    "    return binary_search(arr, target, mid+1, end)\n",
    "    \n",
    "\n",
    "res = binary_search(arr, target, 0, n-1)\n",
    "print(res)"
   ]
  },
  {
   "cell_type": "markdown",
   "metadata": {},
   "source": [
    "부품찾기"
   ]
  },
  {
   "cell_type": "code",
   "execution_count": 41,
   "metadata": {},
   "outputs": [
    {
     "name": "stdout",
     "output_type": "stream",
     "text": [
      "no yes yes\n"
     ]
    }
   ],
   "source": [
    "n = 5\n",
    "arr = [8,3,7,9,2]\n",
    "\n",
    "m=3\n",
    "arr_target = [5,7,9]\n",
    "\n",
    "def binary_search(arr, target, start, end):\n",
    "\n",
    "  while start <= end:\n",
    "    mid = (start + end) // 2\n",
    "    if target == arr[mid]:\n",
    "      return mid\n",
    "    elif target < arr[mid]:\n",
    "      end = mid - 1\n",
    "    elif target > arr[mid]:\n",
    "      start = mid + 1\n",
    "\n",
    "  return None\n",
    "\n",
    "arr = sorted(arr)\n",
    "\n",
    "res = []\n",
    "for target in arr_target:\n",
    "  if binary_search(arr, target, 0, n-1) == None:\n",
    "    res.append('no')\n",
    "  else:\n",
    "    res.append('yes')\n",
    "print(' '.join(res))"
   ]
  },
  {
   "cell_type": "markdown",
   "metadata": {},
   "source": [
    "떡볶이 떡 만들기"
   ]
  },
  {
   "cell_type": "code",
   "execution_count": 44,
   "metadata": {},
   "outputs": [
    {
     "name": "stdout",
     "output_type": "stream",
     "text": [
      "15\n"
     ]
    }
   ],
   "source": [
    "n=4\n",
    "m=6\n",
    "arr = [19,15,10,17]\n",
    "\n",
    "def binary_search(arr, target, start, end):\n",
    "  res = 0\n",
    "  while start <= end:\n",
    "    mid = (start+end)//2\n",
    "    total = 0\n",
    "    for i in range(len(arr)):\n",
    "      if arr[i] > mid:\n",
    "        total += arr[i] - mid\n",
    "\n",
    "    if total < target:\n",
    "      end = mid - 1\n",
    "    else:\n",
    "      res = mid\n",
    "      start = mid + 1\n",
    "\n",
    "  return res\n",
    "      \n",
    "res=binary_search(arr, m, 0, max(arr))\n",
    "print(res)\n"
   ]
  },
  {
   "cell_type": "markdown",
   "metadata": {},
   "source": [
    "## 실전문제"
   ]
  },
  {
   "cell_type": "markdown",
   "metadata": {},
   "source": [
    "정렬된 배열에서 특정 수의 개수 구하기\n"
   ]
  },
  {
   "cell_type": "markdown",
   "metadata": {},
   "source": [
    "library 없이 푸는 방법"
   ]
  },
  {
   "cell_type": "code",
   "execution_count": 5,
   "metadata": {},
   "outputs": [
    {
     "name": "stdout",
     "output_type": "stream",
     "text": [
      "0 6 3\n",
      "0 2 1\n",
      "2 2 2\n",
      "0 6 3\n",
      "4 6 5\n",
      "2\n",
      "5\n",
      "4\n"
     ]
    }
   ],
   "source": [
    "n=7\n",
    "target=2\n",
    "arr = [1,1,2,2,2,2,3]\n",
    "\n",
    "\n",
    "def first_binary_search(arr, target, start, end):\n",
    "  while start <= end:\n",
    "    mid = (start + end) // 2\n",
    "    print(start, end, mid)\n",
    "    if (mid == 0 or arr[mid-1] < target) and target == arr[mid]:\n",
    "      return mid\n",
    "    elif target <= arr[mid]:\n",
    "      end = mid - 1\n",
    "    else:\n",
    "      start = mid + 1\n",
    "\n",
    "  return None\n",
    "\n",
    "def last_binary_search(arr, target, start, end):\n",
    "  \n",
    "  while start <= end:\n",
    "    mid = (start + end) // 2\n",
    "    print(start, end, mid)\n",
    "    if (mid== n-1 or arr[mid+1] > target) and target == arr[mid]:\n",
    "      return mid\n",
    "    elif target < arr[mid]:\n",
    "      end = mid - 1\n",
    "    else:\n",
    "      start = mid + 1\n",
    "\n",
    "  return None\n",
    "\n",
    "\n",
    "a = first_binary_search(arr, target, 0, n-1)\n",
    "b = last_binary_search(arr, target, 0, n-1)\n",
    "print(a)\n",
    "print(b)\n",
    "print(b-a+1)"
   ]
  },
  {
   "cell_type": "code",
   "execution_count": 6,
   "metadata": {},
   "outputs": [
    {
     "ename": "ValueError",
     "evalue": "not enough values to unpack (expected 2, got 0)",
     "output_type": "error",
     "traceback": [
      "\u001b[0;31m---------------------------------------------------------------------------\u001b[0m",
      "\u001b[0;31mValueError\u001b[0m                                Traceback (most recent call last)",
      "\u001b[0;32m<ipython-input-6-31f2daf576c8>\u001b[0m in \u001b[0;36m<module>\u001b[0;34m\u001b[0m\n\u001b[1;32m      7\u001b[0m     \u001b[0;32mreturn\u001b[0m \u001b[0mright_index\u001b[0m \u001b[0;34m-\u001b[0m \u001b[0mleft_index\u001b[0m\u001b[0;34m\u001b[0m\u001b[0;34m\u001b[0m\u001b[0m\n\u001b[1;32m      8\u001b[0m \u001b[0;34m\u001b[0m\u001b[0m\n\u001b[0;32m----> 9\u001b[0;31m \u001b[0mn\u001b[0m\u001b[0;34m,\u001b[0m \u001b[0mx\u001b[0m \u001b[0;34m=\u001b[0m \u001b[0mmap\u001b[0m\u001b[0;34m(\u001b[0m\u001b[0mint\u001b[0m\u001b[0;34m,\u001b[0m \u001b[0minput\u001b[0m\u001b[0;34m(\u001b[0m\u001b[0;34m)\u001b[0m\u001b[0;34m.\u001b[0m\u001b[0msplit\u001b[0m\u001b[0;34m(\u001b[0m\u001b[0;34m)\u001b[0m\u001b[0;34m)\u001b[0m \u001b[0;31m# 데이터의 개수 N, 찾고자 하는 값 x 입력 받기\u001b[0m\u001b[0;34m\u001b[0m\u001b[0;34m\u001b[0m\u001b[0m\n\u001b[0m\u001b[1;32m     10\u001b[0m \u001b[0marray\u001b[0m \u001b[0;34m=\u001b[0m \u001b[0mlist\u001b[0m\u001b[0;34m(\u001b[0m\u001b[0mmap\u001b[0m\u001b[0;34m(\u001b[0m\u001b[0mint\u001b[0m\u001b[0;34m,\u001b[0m \u001b[0minput\u001b[0m\u001b[0;34m(\u001b[0m\u001b[0;34m)\u001b[0m\u001b[0;34m.\u001b[0m\u001b[0msplit\u001b[0m\u001b[0;34m(\u001b[0m\u001b[0;34m)\u001b[0m\u001b[0;34m)\u001b[0m\u001b[0;34m)\u001b[0m \u001b[0;31m# 전체 데이터 입력 받기\u001b[0m\u001b[0;34m\u001b[0m\u001b[0;34m\u001b[0m\u001b[0m\n\u001b[1;32m     11\u001b[0m \u001b[0;34m\u001b[0m\u001b[0m\n",
      "\u001b[0;31mValueError\u001b[0m: not enough values to unpack (expected 2, got 0)"
     ]
    }
   ],
   "source": [
    "from bisect import bisect_left, bisect_right\n",
    "\n",
    "# 값이 [left_value, right_value]인 데이터의 개수를 반환하는 함수\n",
    "def count_by_range(array, left_value, right_value):\n",
    "    right_index = bisect_right(array, right_value)\n",
    "    left_index = bisect_left(array, left_value)\n",
    "    return right_index - left_index\n",
    "\n",
    "n, x = map(int, input().split()) # 데이터의 개수 N, 찾고자 하는 값 x 입력 받기\n",
    "array = list(map(int, input().split())) # 전체 데이터 입력 받기\n",
    "\n",
    "# 값이 [x, x] 범위에 있는 데이터의 개수 계산\n",
    "count = count_by_range(array, x, x)\n",
    "\n",
    "# 값이 x인 원소가 존재하지 않는다면\n",
    "if count == 0:\n",
    "    print(-1)\n",
    "# 값이 x인 원소가 존재한다면\n",
    "else:\n",
    "    print(count)\n"
   ]
  },
  {
   "cell_type": "markdown",
   "metadata": {},
   "source": [
    "고장점 찾기 "
   ]
  },
  {
   "cell_type": "code",
   "execution_count": 7,
   "metadata": {},
   "outputs": [
    {
     "name": "stdout",
     "output_type": "stream",
     "text": [
      "2 1\n",
      "3 3\n",
      "3\n"
     ]
    }
   ],
   "source": [
    "n = 5\n",
    "arr = [-15, -6,1,3,7]\n",
    "\n",
    "def binary_search(arr, start, end):\n",
    "  while start <= end:\n",
    "    mid = (start + end) // 2\n",
    "    print(mid, arr[mid])\n",
    "    if  arr[mid] == mid:\n",
    "      return mid\n",
    "    elif arr[mid] > mid:\n",
    "      end = mid - 1\n",
    "    elif arr[mid] < mid:\n",
    "      start = mid + 1\n",
    "  return None\n",
    "\n",
    "a= binary_search(arr, 0, n-1)\n",
    "print(a)"
   ]
  }
 ],
 "metadata": {
  "interpreter": {
   "hash": "aee8b7b246df8f9039afb4144a1f6fd8d2ca17a180786b69acc140d282b71a49"
  },
  "kernelspec": {
   "display_name": "Python 3.8.5 64-bit",
   "language": "python",
   "name": "python3"
  },
  "language_info": {
   "codemirror_mode": {
    "name": "ipython",
    "version": 3
   },
   "file_extension": ".py",
   "mimetype": "text/x-python",
   "name": "python",
   "nbconvert_exporter": "python",
   "pygments_lexer": "ipython3",
   "version": "3.8.8"
  },
  "orig_nbformat": 4
 },
 "nbformat": 4,
 "nbformat_minor": 2
}
