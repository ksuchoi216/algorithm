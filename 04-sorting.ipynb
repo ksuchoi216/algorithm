{
 "cells": [
  {
   "cell_type": "markdown",
   "metadata": {},
   "source": [
    "# 정렬\n"
   ]
  },
  {
   "cell_type": "markdown",
   "metadata": {},
   "source": [
    "## 기본적 형태\n"
   ]
  },
  {
   "cell_type": "code",
   "execution_count": 50,
   "metadata": {},
   "outputs": [],
   "source": [
    "import copy\n",
    "org_arr = [2, 9, 8, 3, 1, 6, 5, 4, 7]\n",
    "def execute_sorting(arr, sort_method, start=None, end=None):\n",
    "  print(arr)\n",
    "  if start != None and end != None: # quick sort\n",
    "    sort_method(arr, start, end)\n",
    "  else:\n",
    "    sort_method(arr)\n",
    "  print(arr)"
   ]
  },
  {
   "cell_type": "markdown",
   "metadata": {},
   "source": [
    "선택정렬\n"
   ]
  },
  {
   "cell_type": "code",
   "execution_count": 51,
   "metadata": {},
   "outputs": [
    {
     "name": "stdout",
     "output_type": "stream",
     "text": [
      "[2, 9, 8, 3, 1, 6, 5, 4, 7]\n",
      "[1, 2, 3, 4, 5, 6, 7, 8, 9]\n"
     ]
    }
   ],
   "source": [
    "def selection_sort(arr):\n",
    "  for i in range(len(arr)):\n",
    "    min_index = i\n",
    "    for j in range(i+1, len(arr)):\n",
    "      if arr[j] < arr[min_index]:\n",
    "        min_index = j\n",
    "    \n",
    "    arr[i], arr[min_index] = arr[min_index], arr[i]\n",
    "\n",
    "arr = copy.copy(org_arr)\n",
    "execute_sorting(arr,selection_sort)"
   ]
  },
  {
   "cell_type": "markdown",
   "metadata": {},
   "source": [
    "삽입정렬\n"
   ]
  },
  {
   "cell_type": "code",
   "execution_count": 52,
   "metadata": {},
   "outputs": [
    {
     "name": "stdout",
     "output_type": "stream",
     "text": [
      "[2, 9, 8, 3, 1, 6, 5, 4, 7]\n",
      "[1, 2, 3, 4, 5, 6, 7, 8, 9]\n"
     ]
    }
   ],
   "source": [
    "def insertion_sort(arr):\n",
    "  for i in range(1, len(arr)):\n",
    "    for j in range(i, 0, -1):\n",
    "      if arr[j] < arr[j-1]:\n",
    "        arr[j], arr[j-1] = arr[j-1], arr[j]\n",
    "      else:\n",
    "        break\n",
    "\n",
    "arr = copy.copy(org_arr)\n",
    "execute_sorting(arr, insertion_sort)"
   ]
  },
  {
   "cell_type": "markdown",
   "metadata": {},
   "source": [
    "퀵 정렬\n"
   ]
  },
  {
   "cell_type": "code",
   "execution_count": 54,
   "metadata": {},
   "outputs": [
    {
     "name": "stdout",
     "output_type": "stream",
     "text": [
      "[2, 9, 8, 3, 1, 6, 5, 4, 7]\n",
      "[1, 2, 3, 4, 5, 6, 7, 8, 9]\n"
     ]
    }
   ],
   "source": [
    "def quick_sort(arr, start, end):\n",
    "  if start >= end:\n",
    "    return\n",
    "  pivot = start\n",
    "  left = start+1\n",
    "  right = end\n",
    "  while left <= right:\n",
    "    while left <= end and arr[left] <= arr[pivot]:\n",
    "      left += 1\n",
    "    \n",
    "    while right > start and arr[right] >= arr[pivot]:\n",
    "      right -= 1\n",
    "    \n",
    "    if left > right:\n",
    "      arr[right], arr[pivot] = arr[pivot], arr[right]\n",
    "    else:\n",
    "      arr[right], arr[left] = arr[left], arr[right]\n",
    "  quick_sort(arr, start, right-1)\n",
    "  quick_sort(arr, right+1, end)\n",
    "  \n",
    "arr = copy.copy(org_arr)\n",
    "execute_sorting(arr, quick_sort, start=0, end=len(arr)-1) "
   ]
  },
  {
   "cell_type": "code",
   "execution_count": 53,
   "metadata": {},
   "outputs": [
    {
     "name": "stdout",
     "output_type": "stream",
     "text": [
      "[2, 9, 8, 3, 1, 6, 5, 4, 7]\n",
      "[1, 2, 3, 4, 5, 6, 7, 8, 9]\n"
     ]
    }
   ],
   "source": [
    "def quick_sort2(arr):\n",
    "  if len(arr) <= 1:\n",
    "    return arr\n",
    "  \n",
    "  pivot = arr[0]\n",
    "  tail = arr[1:]\n",
    "\n",
    "  left_side = [x for x in tail if x <= pivot]\n",
    "  right_side = [x for x in tail if x > pivot]\n",
    "\n",
    "  return quick_sort2(left_side) + [pivot] + quick_sort2(right_side)\n",
    "\n",
    "\n",
    "\n",
    "arr = copy.copy(org_arr)\n",
    "execute_sorting(arr, quick_sort, start=0, end=len(arr)-1) "
   ]
  },
  {
   "cell_type": "markdown",
   "metadata": {},
   "source": [
    "계수 정렬\n"
   ]
  },
  {
   "cell_type": "code",
   "execution_count": 20,
   "metadata": {},
   "outputs": [
    {
     "name": "stdout",
     "output_type": "stream",
     "text": [
      "0 0 1 1 2 2 3 4 5 5 6 7 8 9 9 "
     ]
    }
   ],
   "source": [
    "arr = [7,5,9,0,3,1,6,2,9,1,4,8,0,5,2]\n",
    "\n",
    "def count_sort(arr):\n",
    "  count_arr = [0] * (max(arr)+1)\n",
    "\n",
    "  for i in arr:\n",
    "    count_arr[i] += 1\n",
    "\n",
    "  for i in range(len(count_arr)):\n",
    "    for j in range(count_arr[i]):\n",
    "      print(i, end=' ')\n",
    "\n",
    "count_sort(arr)\n"
   ]
  },
  {
   "cell_type": "markdown",
   "metadata": {},
   "source": [
    "## 실전문제\n"
   ]
  },
  {
   "cell_type": "markdown",
   "metadata": {},
   "source": [
    "위에서 아래로\n"
   ]
  },
  {
   "cell_type": "code",
   "execution_count": 23,
   "metadata": {},
   "outputs": [
    {
     "name": "stdout",
     "output_type": "stream",
     "text": [
      "[27, 15, 12]\n"
     ]
    }
   ],
   "source": [
    "n = 3\n",
    "arr = [15, 27, 12]\n",
    "\n",
    "n = int(input())\n",
    "\n",
    "arr = []\n",
    "for i in range(n):\n",
    "  arr.append(int(input()))\n",
    "\n",
    "print(sorted(arr, reverse=True))\n"
   ]
  },
  {
   "cell_type": "markdown",
   "metadata": {},
   "source": [
    "성적이 낮은 순서로\n"
   ]
  },
  {
   "cell_type": "code",
   "execution_count": 10,
   "metadata": {},
   "outputs": [],
   "source": [
    "n = int(input())\n",
    "\n",
    "arr = []\n",
    "for i in range(n):\n",
    "  data = list(input().split())\n",
    "\n",
    "  arr.append((data[0], int(data[1])))\n",
    "\n",
    "print(arr)\n",
    "arr = sorted(arr, key=lambda student: student[1])\n",
    "\n",
    "for name in arr:\n",
    "  print(name[0], end=' ')"
   ]
  },
  {
   "cell_type": "markdown",
   "metadata": {},
   "source": [
    "두 배열의 원소 교체"
   ]
  },
  {
   "cell_type": "code",
   "execution_count": 21,
   "metadata": {},
   "outputs": [
    {
     "name": "stdout",
     "output_type": "stream",
     "text": [
      "[1, 2, 3, 4, 5]\n",
      "[6, 6, 5, 5, 5]\n",
      "[6, 6, 5, 4, 5]\n",
      "26\n"
     ]
    }
   ],
   "source": [
    "n = 5\n",
    "k = 3\n",
    "a = [1,2,5,4,3]\n",
    "b = [5,5,6,6,5]\n",
    "\n",
    "a.sort()\n",
    "b.sort(reverse=True)\n",
    "\n",
    "print(a)\n",
    "print(b)\n",
    "\n",
    "for i in range(k):\n",
    "  if a[i] < b[i]:\n",
    "    a[i], b[i] = b[i], a[i]\n",
    "  else:\n",
    "    break\n",
    "\n",
    "print(a)\n",
    "print(sum(a))\n"
   ]
  },
  {
   "cell_type": "markdown",
   "metadata": {},
   "source": [
    "국영수"
   ]
  },
  {
   "cell_type": "code",
   "execution_count": 8,
   "metadata": {},
   "outputs": [
    {
     "name": "stdout",
     "output_type": "stream",
     "text": [
      "[['Junkyu', 50, 60, 100], ['Sangkeun', 80, 60, 50], ['Sunyoung', 80, 70, 100]]\n",
      "[['Sangkeun', 80, 60, 50], ['Sunyoung', 80, 70, 100], ['Junkyu', 50, 60, 100]]\n"
     ]
    }
   ],
   "source": [
    "# N = int(input())\n",
    "\n",
    "# data = []\n",
    "# for i in range(N):\n",
    "#   name, a, b, c = map(int, input().split())\n",
    "#   data.append([name, a, b, c])\n",
    "\n",
    "n = 12\n",
    "data = [\n",
    "  ['Junkyu', 50, 60, 100],\n",
    "  ['Sangkeun', 80, 60, 50],\n",
    "  ['Sunyoung', 80, 70, 100]\n",
    "]\n",
    "\n",
    "def my_key(student):\n",
    "  return (-student[1], student[2], -student[3], student[0])\n",
    "\n",
    "print(data)\n",
    "data = sorted(data, key = my_key)\n",
    "print(data)\n"
   ]
  },
  {
   "cell_type": "markdown",
   "metadata": {},
   "source": [
    "안테나"
   ]
  },
  {
   "cell_type": "code",
   "execution_count": 17,
   "metadata": {},
   "outputs": [
    {
     "name": "stdout",
     "output_type": "stream",
     "text": [
      "[1, 5, 7, 9]\n",
      "10\n",
      "5\n"
     ]
    }
   ],
   "source": [
    "n=4\n",
    "h=[5,1,7,9]\n",
    "h= sorted(h)\n",
    "print(h)\n",
    "\n",
    "res = 999\n",
    "pos = 0\n",
    "for i in range(h[0], h[3]+1):\n",
    "  dist = sum([abs(x-i) for x in h])\n",
    "  \n",
    "  if dist < res:\n",
    "    res = dist\n",
    "    pos = i\n",
    "  \n",
    "print(res)\n",
    "print(pos)\n",
    "\n",
    "\n"
   ]
  },
  {
   "cell_type": "markdown",
   "metadata": {},
   "source": [
    "## 실전문제"
   ]
  },
  {
   "cell_type": "markdown",
   "metadata": {},
   "source": [
    "금광"
   ]
  },
  {
   "cell_type": "code",
   "execution_count": 2,
   "metadata": {},
   "outputs": [
    {
     "name": "stdout",
     "output_type": "stream",
     "text": [
      "[[1, 3, 3, 3], [2, 1, 4, 1], [0, 6, 4, 7]]\n",
      "0 1 2\n",
      "1 2 0\n",
      "2 0 0\n",
      "0 5 3\n",
      "5 3 8\n",
      "3 8 0\n",
      "0 8 12\n",
      "8 12 12\n",
      "12 12 0\n",
      "[[1, 5, 8, 15], [2, 3, 12, 13], [0, 8, 12, 19]]\n",
      "19\n"
     ]
    }
   ],
   "source": [
    "n=3\n",
    "m=4\n",
    "dp = [[1,3,3,3],[2,1,4,1],[0,6,4,7]]\n",
    "\n",
    "# dp = [[0]*m for _ in range(n)]\n",
    "print(dp)\n",
    "\n",
    "\n",
    "for j in range(1, m):\n",
    "  for i in range(n):\n",
    "    if i == 0:\n",
    "      left_up = 0\n",
    "    else:\n",
    "      left_up = dp[i-1][j-1]\n",
    "    if i == n-1:\n",
    "      left_down = 0\n",
    "    else:\n",
    "      left_down = dp[i+1][j-1]\n",
    "    left = dp[i][j-1]\n",
    "    print(left_up, left, left_down)\n",
    "    dp[i][j] = dp[i][j]+ max(left_up, left, left_down)\n",
    "\n",
    "print(dp)\n",
    "\n",
    "max = 0\n",
    "for i in range(n):\n",
    "  if dp[i][m-1] > max:\n",
    "    max = dp[i][m-1]\n",
    "\n",
    "print(max)\n",
    "\n",
    "  "
   ]
  },
  {
   "cell_type": "markdown",
   "metadata": {},
   "source": [
    "정수 삼각형"
   ]
  },
  {
   "cell_type": "code",
   "execution_count": 1,
   "metadata": {},
   "outputs": [
    {
     "name": "stdout",
     "output_type": "stream",
     "text": [
      "1 0\n",
      "2 0\n",
      "2 1\n",
      "3 0\n",
      "3 1\n",
      "3 2\n",
      "4 0\n",
      "4 1\n",
      "4 2\n",
      "4 3\n",
      "[[7], [10, 8], [18, 11, 0], [20, 25, 15, 4], [24, 30, 27, 21, 5]]\n",
      "Success!\n"
     ]
    }
   ],
   "source": [
    "n=5\n",
    "dp=[[7],[3,8],[8,1,0],[2,7,4,4],[4,5,2,6,5]]\n",
    "res=0\n",
    "\n",
    "for i in range(1, n):\n",
    "  for j in range(i):\n",
    "\n",
    "    print(i,j)\n",
    "    \n",
    "    if j == 0:\n",
    "      left = 0\n",
    "    else:\n",
    "      left = dp[i-1][j-1]\n",
    "\n",
    "    if j == i:\n",
    "      right = 0\n",
    "    else:\n",
    "      right = dp[i-1][j]\n",
    "\n",
    "    dp[i][j] = dp[i][j] + max(left, right)\n",
    "\n",
    "print(dp)\n",
    "\n",
    "max = 0\n",
    "for j in range(n-1):\n",
    "  if dp[n-1][j] > max:\n",
    "    max = dp[n-1][j]\n",
    "\n",
    "res = max\n",
    "\n",
    "if res == 30:\n",
    "  print('Success!')\n",
    "else:\n",
    "  print('Failure')"
   ]
  }
 ],
 "metadata": {
  "interpreter": {
   "hash": "45d80257ccf4ae77bb116447a323b4ded5c7d4f4eb3ea993cf039511269910c8"
  },
  "kernelspec": {
   "display_name": "Python 3.8.8 ('base')",
   "language": "python",
   "name": "python3"
  },
  "language_info": {
   "codemirror_mode": {
    "name": "ipython",
    "version": 3
   },
   "file_extension": ".py",
   "mimetype": "text/x-python",
   "name": "python",
   "nbconvert_exporter": "python",
   "pygments_lexer": "ipython3",
   "version": "3.8.8"
  },
  "orig_nbformat": 4
 },
 "nbformat": 4,
 "nbformat_minor": 2
}
