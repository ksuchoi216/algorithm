{
 "cells": [
  {
   "cell_type": "markdown",
   "metadata": {},
   "source": [
    "# Greedy problems\n"
   ]
  },
  {
   "cell_type": "markdown",
   "metadata": {},
   "source": [
    "## <span style=\"color:violet\">예제 문제</span>"
   ]
  },
  {
   "cell_type": "markdown",
   "metadata": {},
   "source": [
    "### <span style=\"color:lime\">1. 거스름돈 문제</span>"
   ]
  },
  {
   "cell_type": "markdown",
   "metadata": {},
   "source": [
    "총 n 원을 받았을 때 동전으로 어떻게 교환할 수 있을까?\n",
    "사용할 동전 500원, 100원, 50원, 10원이 무한이 있다."
   ]
  },
  {
   "cell_type": "code",
   "execution_count": 12,
   "metadata": {},
   "outputs": [
    {
     "name": "stdout",
     "output_type": "stream",
     "text": [
      "coin list:  [2, 0, 0, 0]\n",
      "the number of coins:  2\n"
     ]
    }
   ],
   "source": [
    "# total money is n\n",
    "n = int(input())\n",
    "\n",
    "# coin list\n",
    "coins = [500, 100, 50, 10]\n",
    "\n",
    "# result list\n",
    "res = []\n",
    "\n",
    "for coin in coins:\n",
    "  res.append(n // coin)\n",
    "  n %= coin\n",
    "\n",
    "print('coin list: ', res)\n",
    "print('the number of coins: ',sum(res))"
   ]
  },
  {
   "cell_type": "markdown",
   "metadata": {},
   "source": [
    "### <span style=\"color:lime\">2. 큰 수의 법칙</span>"
   ]
  },
  {
   "cell_type": "markdown",
   "metadata": {},
   "source": [
    "주어진 수(배열)를 이용해 가장 큰 수를 만드는 방법을 구하라\n",
    "- 조건\n",
    "2 <= n <= 1000, 1 <= m <= 10000, 1 <= k <= 10000<br>\n",
    "n개의 수를 m번 더하여 가장 큰수를 만들며, k번을 초과하여 더해줄 수 없다."
   ]
  },
  {
   "cell_type": "code",
   "execution_count": 18,
   "metadata": {},
   "outputs": [
    {
     "name": "stdout",
     "output_type": "stream",
     "text": [
      "42\n"
     ]
    }
   ],
   "source": [
    "m, k = map(int, input().split())\n",
    "\n",
    "data = list(map(int, input().split()))\n",
    "\n",
    "data.sort(reverse=True)\n",
    "\n",
    "first = data[0]\n",
    "second = data[1]\n",
    "\n",
    "res = 0 \n",
    "while True:\n",
    "  for i in range(k):\n",
    "    if m == 0:\n",
    "      break\n",
    "    res += first\n",
    "\n",
    "  if m == 0:\n",
    "    break\n",
    "\n",
    "  res += second\n",
    "  m -= 1\n",
    "\n",
    "print(res)\n",
    "\n"
   ]
  },
  {
   "cell_type": "markdown",
   "metadata": {},
   "source": [
    "### <span style=\"color:lime\">3. 숫자 카드 게임</span>"
   ]
  },
  {
   "cell_type": "markdown",
   "metadata": {},
   "source": [
    "주어진 카드 중에 가장 높은 숫자가 쓰인 카드를 뽑는 게임이다. <br>\n",
    "1. 행을 선택한다\n",
    "2. 해당하는 행의 카드 중 가장 낮은 숫자를 선택한다."
   ]
  },
  {
   "cell_type": "code",
   "execution_count": 22,
   "metadata": {},
   "outputs": [
    {
     "name": "stdout",
     "output_type": "stream",
     "text": [
      "2\n"
     ]
    }
   ],
   "source": [
    "n, m = map(int, input().split())\n",
    "\n",
    "res = 0\n",
    "\n",
    "for row in range(n):\n",
    "  data = list(map(int, input().split()))\n",
    "  row_min = min(data)\n",
    "  res = max(res, row_min)\n",
    "\n",
    "print(res)"
   ]
  },
  {
   "cell_type": "code",
   "execution_count": 40,
   "metadata": {},
   "outputs": [
    {
     "name": "stdout",
     "output_type": "stream",
     "text": [
      "2\n"
     ]
    }
   ],
   "source": [
    "import numpy as np\n",
    "rows, cols = map(int, input().split())\n",
    "\n",
    "data = np.zeros(shape=(rows,cols), dtype=int)\n",
    "\n",
    "# get data from user's input\n",
    "for row in range(rows):\n",
    "  temp = list(map(int, input().split()))\n",
    "  data[row] = temp\n",
    "\n",
    "# find solution\n",
    "print(np.max(np.min(data,axis=1)))"
   ]
  },
  {
   "cell_type": "markdown",
   "metadata": {},
   "source": [
    "Numpy array test is presented as follows:"
   ]
  },
  {
   "cell_type": "code",
   "execution_count": 33,
   "metadata": {},
   "outputs": [
    {
     "name": "stdout",
     "output_type": "stream",
     "text": [
      "[[0 0 2]\n",
      " [1 2 0]\n",
      " [1 3 3]]\n",
      "[1 2 0]\n",
      "[[0 0 2]\n",
      " [2 2 2]\n",
      " [1 3 3]]\n"
     ]
    }
   ],
   "source": [
    "test = np.array([[3,4,2],[2,4,3]])\n",
    "test = np.random.randint(4, size=(3,3))\n",
    "print(test)\n",
    "print(test[1])\n",
    "test[1] = [2,2,2]\n",
    "print(test)"
   ]
  },
  {
   "cell_type": "markdown",
   "metadata": {},
   "source": [
    "### <span style=\"color:lime\">4. 1이 될 때까지</span>"
   ]
  },
  {
   "cell_type": "markdown",
   "metadata": {},
   "source": [
    "어떠한 N이 1이 될 때까지 다음의 두 과정 중 하나를 반복적으로 선택하여 수행했을 때 최소 수행해야하는 횟수는?\n",
    "- n에서 1 뺀다\n",
    "- n을 k로 나눈다"
   ]
  },
  {
   "cell_type": "code",
   "execution_count": 6,
   "metadata": {},
   "outputs": [
    {
     "name": "stdout",
     "output_type": "stream",
     "text": [
      "2\n"
     ]
    }
   ],
   "source": [
    "n, k = map(int, input().split())\n",
    "\n",
    "res = 0\n",
    "while True:\n",
    "  if n%k == 0:\n",
    "    break\n",
    "  n -= 1\n",
    "  res += 1\n",
    "\n",
    "while True:\n",
    "  if n == 1:\n",
    "    break\n",
    "  n = n/k\n",
    "  res += 1\n",
    "\n",
    "print(res)\n"
   ]
  },
  {
   "cell_type": "markdown",
   "metadata": {},
   "source": [
    "## <span style=\"color:violet\">연습 문제</span>"
   ]
  },
  {
   "cell_type": "markdown",
   "metadata": {},
   "source": [
    "### <span style=\"color:lime\">모험가 길드</span>"
   ]
  },
  {
   "cell_type": "markdown",
   "metadata": {},
   "source": [
    "공포도가 x인 모험가는 반드시 x명 이상으로 구성한 모험가 그룹에 참여해야함"
   ]
  },
  {
   "cell_type": "code",
   "execution_count": 16,
   "metadata": {},
   "outputs": [
    {
     "name": "stdout",
     "output_type": "stream",
     "text": [
      "2\n"
     ]
    }
   ],
   "source": [
    "# example inputs\n",
    "# n = 5\n",
    "# data = [2, 3, 1, 2, 2]\n",
    "\n",
    "# This is the number of inputs and data\n",
    "n = int(input())\n",
    "data = list(map(int, input().split()))\n",
    "\n",
    "# sort out data [descending order]\n",
    "data.sort(reverse=True)\n",
    "\n",
    "res=0\n",
    "\n",
    "while True:\n",
    "  res+=1\n",
    "  groupSize = data[0]\n",
    "  if groupSize >= len(data):\n",
    "    break\n",
    "  remainedGroupSize = groupSize-1\n",
    "  data=data[1:-remainedGroupSize]\n",
    "\n",
    "print(res)"
   ]
  },
  {
   "cell_type": "markdown",
   "metadata": {},
   "source": [
    "### <span style=\"color:lime\">곱하기 혹은 더하기</span>"
   ]
  },
  {
   "cell_type": "code",
   "execution_count": 29,
   "metadata": {},
   "outputs": [
    {
     "name": "stdout",
     "output_type": "stream",
     "text": [
      "02984\n",
      "576\n"
     ]
    }
   ],
   "source": [
    "# example inputs\n",
    "# n = '02984'\n",
    "\n",
    "# input\n",
    "n = str(input())\n",
    "print(n)\n",
    "\n",
    "res=0\n",
    "for i in range(len(n)):\n",
    "  num = int(n[i])\n",
    "\n",
    "  if i == 0:\n",
    "    res += num\n",
    "    continue\n",
    "\n",
    "  # before_num = int(n[i-1])\n",
    "  if res != 0 and num != 0:\n",
    "    res *= num\n",
    "  else:\n",
    "    res += num\n",
    "\n",
    "print(res)"
   ]
  },
  {
   "cell_type": "code",
   "execution_count": null,
   "metadata": {},
   "outputs": [],
   "source": [
    "  "
   ]
  }
 ],
 "metadata": {
  "interpreter": {
   "hash": "45d80257ccf4ae77bb116447a323b4ded5c7d4f4eb3ea993cf039511269910c8"
  },
  "kernelspec": {
   "display_name": "Python 3.8.8 ('base')",
   "language": "python",
   "name": "python3"
  },
  "language_info": {
   "codemirror_mode": {
    "name": "ipython",
    "version": 3
   },
   "file_extension": ".py",
   "mimetype": "text/x-python",
   "name": "python",
   "nbconvert_exporter": "python",
   "pygments_lexer": "ipython3",
   "version": "3.8.8"
  },
  "orig_nbformat": 4
 },
 "nbformat": 4,
 "nbformat_minor": 2
}
